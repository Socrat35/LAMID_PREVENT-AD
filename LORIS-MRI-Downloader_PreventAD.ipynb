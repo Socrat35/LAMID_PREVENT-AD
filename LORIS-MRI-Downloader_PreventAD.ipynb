{
 "cells": [
  {
   "cell_type": "markdown",
   "metadata": {},
   "source": [
    "# Prevent AD MRI scans downloader"
   ]
  },
  {
   "cell_type": "code",
   "execution_count": null,
   "metadata": {},
   "outputs": [],
   "source": [
    "import getpass  # For input prompt not to show what is entered\n",
    "import json     # Provide convinent functions to handle json objects \n",
    "import requests # To handle http requests\n",
    "import os \n",
    "\n",
    "hostname = 'openpreventad.loris.ca'\n",
    "baseurl = 'https://' + hostname + '/api/v0.0.3-dev'"
   ]
  },
  {
   "cell_type": "markdown",
   "metadata": {},
   "source": [
    "### Login procedure"
   ]
  },
  {
   "cell_type": "code",
   "execution_count": null,
   "metadata": {},
   "outputs": [],
   "source": [
    "print('Login on ' + hostname)\n",
    "\n",
    "payload = {\n",
    "    'username': input('username: '), \n",
    "    'password': getpass.getpass('password: ')\n",
    "}\n",
    "\n",
    "response = requests.post(\n",
    "    url = baseurl + '/login',\n",
    "    json = payload,\n",
    "    verify = True\n",
    ")\n",
    "\n",
    "text = response.content.decode('ascii')\n",
    "\n",
    "if (response.status_code == 200):\n",
    "    token = json.loads(text)['token']\n",
    "    print('login successfull')\n",
    "else:\n",
    "    print(text)\n"
   ]
  },
  {
   "cell_type": "markdown",
   "metadata": {},
   "source": [
    "### Extraction"
   ]
  },
  {
   "cell_type": "code",
   "execution_count": null,
   "metadata": {},
   "outputs": [],
   "source": [
    "candidates = json.loads(requests.get(\n",
    "    url = baseurl + '/candidates/',\n",
    "    verify = False,\n",
    "    headers = {'Authorization': 'Bearer %s' % token}\n",
    ").content.decode('ascii'))\n",
    "\n",
    "for candidate in candidates['Candidates']:\n",
    "    candid = candidate['CandID']\n",
    "    sessions = json.loads(requests.get(\n",
    "        url = baseurl + '/candidates/' + candid,\n",
    "        verify = False,\n",
    "        headers = {'Authorization': 'Bearer %s' % token}\n",
    "    ).content.decode('ascii'))\n",
    "    \n",
    "    for visit in sessions['Visits']:\n",
    "        \n",
    "        directory = candid + '/' + visit\n",
    "        try:\n",
    "            os.makedirs(directory)\n",
    "        except FileExistsError:\n",
    "            pass\n",
    "        \n",
    "        session = json.loads(requests.get(\n",
    "            url = baseurl + '/candidates/' + candid + '/' + visit,\n",
    "            verify = False,\n",
    "            headers = {'Authorization': 'Bearer %s' % token}\n",
    "        ).content.decode('ascii'))\n",
    "        \n",
    "        sessionmetafile = open(directory + '/session.json', \"w\")\n",
    "        sessionmetafile.write(str(session['Meta']))\n",
    "        sessionmetafile.close()\n",
    "            \n",
    "        files = json.loads(requests.get(\n",
    "            url = baseurl + '/candidates/' + candid + '/' + visit + '/images',\n",
    "            verify = False,\n",
    "            headers = {'Authorization': 'Bearer %s' % token}\n",
    "        ).content.decode('ascii'))\n",
    "        \n",
    "        for file in files['Files']:\n",
    "            filename = file['Filename']\n",
    "            relativepath = directory + '/' + filename\n",
    "            \n",
    "            if not os.path.isfile(relativepath):\n",
    "                image = requests.get(\n",
    "                    url = baseurl + '/candidates/' + candid + '/' + visit + '/images/' + filename,\n",
    "                    verify = False,\n",
    "                    headers = {'Authorization': 'Bearer %s' % token}\n",
    "                )\n",
    "                mincfile = open(relativepath, \"w+b\")\n",
    "                mincfile.write(bytes(image.content))\n",
    "            \n",
    "            relativepath = directory + '/' + filename + '.qc.json'\n",
    "            if not os.path.isfile(relativepath):\n",
    "                qc = requests.get(\n",
    "                    url = baseurl + '/candidates/' + candid + '/' + visit + '/images/' + filename + '/qc',\n",
    "                    verify = False,\n",
    "                    headers = {'Authorization': 'Bearer %s' % token}\n",
    "                )\n",
    "                qcfile = open(relativepath, \"w+b\")\n",
    "                qcfile.write(bytes(qc.content))\n",
    "            \n",
    "        \n"
   ]
  },
  {
   "cell_type": "code",
   "execution_count": null,
   "metadata": {},
   "outputs": [],
   "source": []
  }
 ],
 "metadata": {
  "kernelspec": {
   "display_name": "Python 3",
   "language": "python",
   "name": "python3"
  },
  "language_info": {
   "codemirror_mode": {
    "name": "ipython",
    "version": 3
   },
   "file_extension": ".py",
   "mimetype": "text/x-python",
   "name": "python",
   "nbconvert_exporter": "python",
   "pygments_lexer": "ipython3",
   "version": "3.7.2"
  }
 },
 "nbformat": 4,
 "nbformat_minor": 2
}
