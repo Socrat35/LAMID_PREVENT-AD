{
 "cells": [
  {
   "cell_type": "markdown",
   "metadata": {},
   "source": [
    "# PREVENT-AD MRI images downloader"
   ]
  },
  {
   "cell_type": "code",
   "execution_count": null,
   "metadata": {},
   "outputs": [],
   "source": [
    "import getpass  # For input prompt not to show what is entered\n",
    "import json     # Provide convenient functions to handle JSON objects \n",
    "import requests # To handle HTTP requests\n",
    "import os       # Operating System library to create directories and files\n",
    "\n",
    "hostname = 'openpreventad.loris.ca'\n",
    "baseurl = 'https://' + hostname + '/api/v0.0.3-dev'"
   ]
  },
  {
   "cell_type": "markdown",
   "metadata": {},
   "source": [
    "### Login procedure  \n",
    "This will ask for your username and password and print the login result"
   ]
  },
  {
   "cell_type": "code",
   "execution_count": null,
   "metadata": {},
   "outputs": [],
   "source": [
    "print('Login on ' + hostname)\n",
    "\n",
    "# Prepare the credentials using prompt\n",
    "payload = {\n",
    "    'username': input('username: '), \n",
    "    'password': getpass.getpass('password: ')\n",
    "}\n",
    "\n",
    "# Send an HTTP POST request to the /login endpoint\n",
    "response = requests.post(\n",
    "    url = baseurl + '/login',\n",
    "    json = payload,\n",
    "    verify = True\n",
    ")\n",
    "\n",
    "text = response.content.decode('ascii')\n",
    "\n",
    "# If the response is successful (HTTP 200), extract the JWT token \n",
    "if (response.status_code == 200):\n",
    "    token = json.loads(text)['token']\n",
    "    print('login successfull')\n",
    "else:\n",
    "    print(text)\n"
   ]
  },
  {
   "cell_type": "markdown",
   "metadata": {},
   "source": [
    "### Extraction  \n",
    "For each visits of each candidates this will create a directory `/<CandID>/<VisitLable>` and download all this files and their qc info into it.  \n",
    "\n",
    "It wont download files that already exists. This validation is based on filename solely and not on it content... yet"
   ]
  },
  {
   "cell_type": "code",
   "execution_count": null,
   "metadata": {},
   "outputs": [],
   "source": [
    "# Get the list of all the candidates\n",
    "candidates = json.loads(requests.get(\n",
    "    url = baseurl + '/candidates/',\n",
    "    headers = {'Authorization': 'Bearer %s' % token}\n",
    ").content.decode('ascii'))\n",
    "\n",
    "candidatetotal = len(candidates['Candidates'])\n",
    "print(str(candidatetotal) + ' candidates found')\n",
    "print(\"-------------------------------------------\\n\")\n",
    "processedcandidates = 0\n",
    "\n",
    "for candidate in candidates['Candidates']:\n",
    "    candid = candidate['CandID']\n",
    "    \n",
    "    print('Processing candidate #' + candid + \"\\n\")\n",
    "    \n",
    "    # Get that candidate's list of sessions\n",
    "    sessions = json.loads(requests.get(\n",
    "        url = baseurl + '/candidates/' + candid,\n",
    "        headers = {'Authorization': 'Bearer %s' % token}\n",
    "    ).content.decode('ascii'))\n",
    "    \n",
    "    print(str(len(sessions['Visits'])) + \" sessions found\\n\")\n",
    "    \n",
    "    for visit in sessions['Visits']:\n",
    "        # Create the directory for that visit if it doesn't already exists\n",
    "        directory = candid + '/' + visit\n",
    "        try:\n",
    "            os.makedirs(directory)\n",
    "        except FileExistsError:\n",
    "            pass\n",
    "        \n",
    "        # Get the session information\n",
    "        session = json.loads(requests.get(\n",
    "            url = baseurl + '/candidates/' + candid + '/' + visit,\n",
    "            headers = {'Authorization': 'Bearer %s' % token}\n",
    "        ).content.decode('ascii'))\n",
    "        \n",
    "        # Write the session information into a JSON file\n",
    "        sessionmetafile = open(directory + '/session.json', \"w\")\n",
    "        sessionmetafile.write(str(session['Meta']))\n",
    "        sessionmetafile.close()\n",
    "            \n",
    "        # Get a list of all the images for the session\n",
    "        files = json.loads(requests.get(\n",
    "            url = baseurl + '/candidates/' + candid + '/' + visit + '/images',\n",
    "            headers = {'Authorization': 'Bearer %s' % token}\n",
    "        ).content.decode('ascii'))\n",
    "        \n",
    "        print(str(len(files['Files'])) + ' files found for session ' + visit)\n",
    "        \n",
    "        for file in files['Files']:\n",
    "            filename = file['Filename']\n",
    "            \n",
    "            # Download the image if it doesn't already exist\n",
    "            relativepath = directory + '/' + filename\n",
    "            if not os.path.isfile(relativepath):\n",
    "                image = requests.get(\n",
    "                    url = baseurl + '/candidates/' + candid + '/' + visit + '/images/' + filename,\n",
    "                    headers = {'Authorization': 'Bearer %s' % token}\n",
    "                )\n",
    "                mincfile = open(relativepath, \"w+b\")\n",
    "                mincfile.write(bytes(image.content))\n",
    "                \n",
    "            # Download the QC information of the image if it doesn't already exist\n",
    "            relativepath = directory + '/' + filename + '.qc.json'\n",
    "            if not os.path.isfile(relativepath):\n",
    "                qc = requests.get(\n",
    "                    url = baseurl + '/candidates/' + candid + '/' + visit + '/images/' + filename + '/qc',\n",
    "                    headers = {'Authorization': 'Bearer %s' % token}\n",
    "                )\n",
    "                qcfile = open(relativepath, \"w+b\")\n",
    "                qcfile.write(bytes(qc.content))\n",
    "              \n",
    "    processedcandidates += 1\n",
    "    print(\"\\n-------------------------------------------\")\n",
    "    print(str(processedcandidates) + ' out of ' + str(candidatetotal) + ' candidates processed')\n",
    "    print(\"-------------------------------------------\\n\")\n",
    "            "
   ]
  },
  {
   "cell_type": "code",
   "execution_count": null,
   "metadata": {},
   "outputs": [],
   "source": []
  }
 ],
 "metadata": {
  "kernelspec": {
   "display_name": "Python 3",
   "language": "python",
   "name": "python3"
  },
  "language_info": {
   "codemirror_mode": {
    "name": "ipython",
    "version": 3
   },
   "file_extension": ".py",
   "mimetype": "text/x-python",
   "name": "python",
   "nbconvert_exporter": "python",
   "pygments_lexer": "ipython3",
   "version": "3.7.2"
  }
 },
 "nbformat": 4,
 "nbformat_minor": 2
}
